{
 "cells": [
  {
   "cell_type": "code",
   "execution_count": 2,
   "id": "adc1ec76-3749-46a2-b36f-e1d2a2ee6878",
   "metadata": {},
   "outputs": [],
   "source": [
    "import os\n",
    "import pandas as pd\n",
    "import numpy as np \n",
    "import matplotlib.pyplot as plt\n",
    "import datetime"
   ]
  },
  {
   "cell_type": "code",
   "execution_count": 5,
   "id": "69dc22e0-df1b-4ca4-9640-e93c69afb437",
   "metadata": {},
   "outputs": [
    {
     "data": {
      "text/html": [
       "<div>\n",
       "<style scoped>\n",
       "    .dataframe tbody tr th:only-of-type {\n",
       "        vertical-align: middle;\n",
       "    }\n",
       "\n",
       "    .dataframe tbody tr th {\n",
       "        vertical-align: top;\n",
       "    }\n",
       "\n",
       "    .dataframe thead th {\n",
       "        text-align: right;\n",
       "    }\n",
       "</style>\n",
       "<table border=\"1\" class=\"dataframe\">\n",
       "  <thead>\n",
       "    <tr style=\"text-align: right;\">\n",
       "      <th></th>\n",
       "      <th>Unnamed: 0</th>\n",
       "      <th>state</th>\n",
       "      <th>year-month</th>\n",
       "      <th>endtime</th>\n",
       "      <th>gender</th>\n",
       "      <th>age</th>\n",
       "      <th>household_size</th>\n",
       "      <th>household_children</th>\n",
       "      <th>child_age_1</th>\n",
       "      <th>child_age_2</th>\n",
       "      <th>...</th>\n",
       "      <th>w4_2</th>\n",
       "      <th>w4_3</th>\n",
       "      <th>w4_4</th>\n",
       "      <th>w4_5</th>\n",
       "      <th>w4_6</th>\n",
       "      <th>w4_7</th>\n",
       "      <th>w4_8</th>\n",
       "      <th>w4_9</th>\n",
       "      <th>w4_10</th>\n",
       "      <th>w4_11</th>\n",
       "    </tr>\n",
       "  </thead>\n",
       "  <tbody>\n",
       "    <tr>\n",
       "      <th>0</th>\n",
       "      <td>0</td>\n",
       "      <td>California</td>\n",
       "      <td>2020-02-01</td>\n",
       "      <td>02/04/2020 08:11</td>\n",
       "      <td>Female</td>\n",
       "      <td>33.0</td>\n",
       "      <td>5</td>\n",
       "      <td>2</td>\n",
       "      <td>NaN</td>\n",
       "      <td>NaN</td>\n",
       "      <td>...</td>\n",
       "      <td>NaN</td>\n",
       "      <td>NaN</td>\n",
       "      <td>NaN</td>\n",
       "      <td>NaN</td>\n",
       "      <td>NaN</td>\n",
       "      <td>NaN</td>\n",
       "      <td>NaN</td>\n",
       "      <td>NaN</td>\n",
       "      <td>NaN</td>\n",
       "      <td>NaN</td>\n",
       "    </tr>\n",
       "    <tr>\n",
       "      <th>1</th>\n",
       "      <td>1</td>\n",
       "      <td>Pennsylvania</td>\n",
       "      <td>2020-02-01</td>\n",
       "      <td>02/04/2020 08:12</td>\n",
       "      <td>Male</td>\n",
       "      <td>38.0</td>\n",
       "      <td>4</td>\n",
       "      <td>1</td>\n",
       "      <td>NaN</td>\n",
       "      <td>NaN</td>\n",
       "      <td>...</td>\n",
       "      <td>NaN</td>\n",
       "      <td>NaN</td>\n",
       "      <td>NaN</td>\n",
       "      <td>NaN</td>\n",
       "      <td>NaN</td>\n",
       "      <td>NaN</td>\n",
       "      <td>NaN</td>\n",
       "      <td>NaN</td>\n",
       "      <td>NaN</td>\n",
       "      <td>NaN</td>\n",
       "    </tr>\n",
       "    <tr>\n",
       "      <th>2</th>\n",
       "      <td>2</td>\n",
       "      <td>Florida</td>\n",
       "      <td>2020-02-01</td>\n",
       "      <td>02/04/2020 08:15</td>\n",
       "      <td>Female</td>\n",
       "      <td>48.0</td>\n",
       "      <td>2</td>\n",
       "      <td>0</td>\n",
       "      <td>NaN</td>\n",
       "      <td>NaN</td>\n",
       "      <td>...</td>\n",
       "      <td>NaN</td>\n",
       "      <td>NaN</td>\n",
       "      <td>NaN</td>\n",
       "      <td>NaN</td>\n",
       "      <td>NaN</td>\n",
       "      <td>NaN</td>\n",
       "      <td>NaN</td>\n",
       "      <td>NaN</td>\n",
       "      <td>NaN</td>\n",
       "      <td>NaN</td>\n",
       "    </tr>\n",
       "    <tr>\n",
       "      <th>3</th>\n",
       "      <td>3</td>\n",
       "      <td>California</td>\n",
       "      <td>2020-02-01</td>\n",
       "      <td>02/04/2020 08:15</td>\n",
       "      <td>Male</td>\n",
       "      <td>31.0</td>\n",
       "      <td>5</td>\n",
       "      <td>0</td>\n",
       "      <td>NaN</td>\n",
       "      <td>NaN</td>\n",
       "      <td>...</td>\n",
       "      <td>NaN</td>\n",
       "      <td>NaN</td>\n",
       "      <td>NaN</td>\n",
       "      <td>NaN</td>\n",
       "      <td>NaN</td>\n",
       "      <td>NaN</td>\n",
       "      <td>NaN</td>\n",
       "      <td>NaN</td>\n",
       "      <td>NaN</td>\n",
       "      <td>NaN</td>\n",
       "    </tr>\n",
       "    <tr>\n",
       "      <th>4</th>\n",
       "      <td>4</td>\n",
       "      <td>Florida</td>\n",
       "      <td>2020-02-01</td>\n",
       "      <td>02/04/2020 08:15</td>\n",
       "      <td>Female</td>\n",
       "      <td>69.0</td>\n",
       "      <td>2</td>\n",
       "      <td>0</td>\n",
       "      <td>NaN</td>\n",
       "      <td>NaN</td>\n",
       "      <td>...</td>\n",
       "      <td>NaN</td>\n",
       "      <td>NaN</td>\n",
       "      <td>NaN</td>\n",
       "      <td>NaN</td>\n",
       "      <td>NaN</td>\n",
       "      <td>NaN</td>\n",
       "      <td>NaN</td>\n",
       "      <td>NaN</td>\n",
       "      <td>NaN</td>\n",
       "      <td>NaN</td>\n",
       "    </tr>\n",
       "    <tr>\n",
       "      <th>...</th>\n",
       "      <td>...</td>\n",
       "      <td>...</td>\n",
       "      <td>...</td>\n",
       "      <td>...</td>\n",
       "      <td>...</td>\n",
       "      <td>...</td>\n",
       "      <td>...</td>\n",
       "      <td>...</td>\n",
       "      <td>...</td>\n",
       "      <td>...</td>\n",
       "      <td>...</td>\n",
       "      <td>...</td>\n",
       "      <td>...</td>\n",
       "      <td>...</td>\n",
       "      <td>...</td>\n",
       "      <td>...</td>\n",
       "      <td>...</td>\n",
       "      <td>...</td>\n",
       "      <td>...</td>\n",
       "      <td>...</td>\n",
       "      <td>...</td>\n",
       "    </tr>\n",
       "    <tr>\n",
       "      <th>65855</th>\n",
       "      <td>32925</td>\n",
       "      <td>NaN</td>\n",
       "      <td>NaN</td>\n",
       "      <td>NaN</td>\n",
       "      <td>NaN</td>\n",
       "      <td>NaN</td>\n",
       "      <td>NaN</td>\n",
       "      <td>NaN</td>\n",
       "      <td>NaN</td>\n",
       "      <td>NaN</td>\n",
       "      <td>...</td>\n",
       "      <td></td>\n",
       "      <td></td>\n",
       "      <td></td>\n",
       "      <td></td>\n",
       "      <td></td>\n",
       "      <td></td>\n",
       "      <td></td>\n",
       "      <td></td>\n",
       "      <td></td>\n",
       "      <td></td>\n",
       "    </tr>\n",
       "    <tr>\n",
       "      <th>65856</th>\n",
       "      <td>32926</td>\n",
       "      <td>NaN</td>\n",
       "      <td>NaN</td>\n",
       "      <td>NaN</td>\n",
       "      <td>NaN</td>\n",
       "      <td>NaN</td>\n",
       "      <td>NaN</td>\n",
       "      <td>NaN</td>\n",
       "      <td>NaN</td>\n",
       "      <td>NaN</td>\n",
       "      <td>...</td>\n",
       "      <td></td>\n",
       "      <td></td>\n",
       "      <td></td>\n",
       "      <td></td>\n",
       "      <td></td>\n",
       "      <td></td>\n",
       "      <td></td>\n",
       "      <td></td>\n",
       "      <td></td>\n",
       "      <td></td>\n",
       "    </tr>\n",
       "    <tr>\n",
       "      <th>65857</th>\n",
       "      <td>32927</td>\n",
       "      <td>NaN</td>\n",
       "      <td>NaN</td>\n",
       "      <td>NaN</td>\n",
       "      <td>NaN</td>\n",
       "      <td>NaN</td>\n",
       "      <td>NaN</td>\n",
       "      <td>NaN</td>\n",
       "      <td>NaN</td>\n",
       "      <td>NaN</td>\n",
       "      <td>...</td>\n",
       "      <td></td>\n",
       "      <td></td>\n",
       "      <td></td>\n",
       "      <td></td>\n",
       "      <td></td>\n",
       "      <td></td>\n",
       "      <td></td>\n",
       "      <td></td>\n",
       "      <td></td>\n",
       "      <td></td>\n",
       "    </tr>\n",
       "    <tr>\n",
       "      <th>65858</th>\n",
       "      <td>32928</td>\n",
       "      <td>NaN</td>\n",
       "      <td>NaN</td>\n",
       "      <td>NaN</td>\n",
       "      <td>NaN</td>\n",
       "      <td>NaN</td>\n",
       "      <td>NaN</td>\n",
       "      <td>NaN</td>\n",
       "      <td>NaN</td>\n",
       "      <td>NaN</td>\n",
       "      <td>...</td>\n",
       "      <td></td>\n",
       "      <td></td>\n",
       "      <td></td>\n",
       "      <td></td>\n",
       "      <td></td>\n",
       "      <td></td>\n",
       "      <td></td>\n",
       "      <td></td>\n",
       "      <td></td>\n",
       "      <td></td>\n",
       "    </tr>\n",
       "    <tr>\n",
       "      <th>65859</th>\n",
       "      <td>32929</td>\n",
       "      <td>NaN</td>\n",
       "      <td>NaN</td>\n",
       "      <td>NaN</td>\n",
       "      <td>NaN</td>\n",
       "      <td>NaN</td>\n",
       "      <td>NaN</td>\n",
       "      <td>NaN</td>\n",
       "      <td>NaN</td>\n",
       "      <td>NaN</td>\n",
       "      <td>...</td>\n",
       "      <td></td>\n",
       "      <td></td>\n",
       "      <td></td>\n",
       "      <td></td>\n",
       "      <td></td>\n",
       "      <td></td>\n",
       "      <td></td>\n",
       "      <td></td>\n",
       "      <td></td>\n",
       "      <td></td>\n",
       "    </tr>\n",
       "  </tbody>\n",
       "</table>\n",
       "<p>65860 rows × 39 columns</p>\n",
       "</div>"
      ],
      "text/plain": [
       "       Unnamed: 0         state  year-month           endtime  gender   age  \\\n",
       "0               0    California  2020-02-01  02/04/2020 08:11  Female  33.0   \n",
       "1               1  Pennsylvania  2020-02-01  02/04/2020 08:12    Male  38.0   \n",
       "2               2       Florida  2020-02-01  02/04/2020 08:15  Female  48.0   \n",
       "3               3    California  2020-02-01  02/04/2020 08:15    Male  31.0   \n",
       "4               4       Florida  2020-02-01  02/04/2020 08:15  Female  69.0   \n",
       "...           ...           ...         ...               ...     ...   ...   \n",
       "65855       32925           NaN         NaN               NaN     NaN   NaN   \n",
       "65856       32926           NaN         NaN               NaN     NaN   NaN   \n",
       "65857       32927           NaN         NaN               NaN     NaN   NaN   \n",
       "65858       32928           NaN         NaN               NaN     NaN   NaN   \n",
       "65859       32929           NaN         NaN               NaN     NaN   NaN   \n",
       "\n",
       "      household_size household_children child_age_1 child_age_2  ... w4_2  \\\n",
       "0                  5                  2         NaN         NaN  ...  NaN   \n",
       "1                  4                  1         NaN         NaN  ...  NaN   \n",
       "2                  2                  0         NaN         NaN  ...  NaN   \n",
       "3                  5                  0         NaN         NaN  ...  NaN   \n",
       "4                  2                  0         NaN         NaN  ...  NaN   \n",
       "...              ...                ...         ...         ...  ...  ...   \n",
       "65855            NaN                NaN         NaN         NaN  ...        \n",
       "65856            NaN                NaN         NaN         NaN  ...        \n",
       "65857            NaN                NaN         NaN         NaN  ...        \n",
       "65858            NaN                NaN         NaN         NaN  ...        \n",
       "65859            NaN                NaN         NaN         NaN  ...        \n",
       "\n",
       "      w4_3 w4_4 w4_5 w4_6 w4_7 w4_8 w4_9 w4_10 w4_11  \n",
       "0      NaN  NaN  NaN  NaN  NaN  NaN  NaN   NaN   NaN  \n",
       "1      NaN  NaN  NaN  NaN  NaN  NaN  NaN   NaN   NaN  \n",
       "2      NaN  NaN  NaN  NaN  NaN  NaN  NaN   NaN   NaN  \n",
       "3      NaN  NaN  NaN  NaN  NaN  NaN  NaN   NaN   NaN  \n",
       "4      NaN  NaN  NaN  NaN  NaN  NaN  NaN   NaN   NaN  \n",
       "...    ...  ...  ...  ...  ...  ...  ...   ...   ...  \n",
       "65855                                                 \n",
       "65856                                                 \n",
       "65857                                                 \n",
       "65858                                                 \n",
       "65859                                                 \n",
       "\n",
       "[65860 rows x 39 columns]"
      ]
     },
     "execution_count": 5,
     "metadata": {},
     "output_type": "execute_result"
    }
   ],
   "source": [
    "#%% Read in data \n",
    "fp = '/Users/alexbruefach/Documents/GitHub/DSproject-covid-stress-impact/datasets/cov19tracker_cleaned.csv'\n",
    "ucl_df = pd.read_csv(fp)\n",
    "ucl_df"
   ]
  },
  {
   "cell_type": "code",
   "execution_count": 6,
   "id": "31a7503c-e657-41c1-8926-db4e6825afda",
   "metadata": {},
   "outputs": [
    {
     "data": {
      "text/plain": [
       "0            20761\n",
       "1             4655\n",
       "2             3886\n",
       "3             1676\n",
       "4              771\n",
       "5 or more      582\n",
       "Name: household_children, dtype: int64"
      ]
     },
     "execution_count": 6,
     "metadata": {},
     "output_type": "execute_result"
    }
   ],
   "source": [
    "#%% Drop rows with no data\n",
    "ucl_df['household_size'].value_counts()\n",
    "ucl_df['household_children'].value_counts()\n",
    "\n",
    "ucl_df = ucl_df[ucl_df['household_children']!='Prefer not to say']\n",
    "ucl_df = ucl_df[ucl_df['household_children']!=\"Don't know\"]\n",
    "\n",
    "ucl_df['household_children'].value_counts()"
   ]
  },
  {
   "cell_type": "code",
   "execution_count": 8,
   "id": "69eb7b4f-0c21-424c-a0bf-a240f35bc3c6",
   "metadata": {},
   "outputs": [
    {
     "data": {
      "text/plain": [
       "                           13563\n",
       "Not at all                  9322\n",
       "Several days                5072\n",
       "More than half the days     2502\n",
       "Nearly every day            1949\n",
       "Prefer not to say            522\n",
       "Name: PHQ4_1, dtype: int64"
      ]
     },
     "execution_count": 8,
     "metadata": {},
     "output_type": "execute_result"
    }
   ],
   "source": [
    "ucl_df['PHQ4_1'].value_counts()"
   ]
  },
  {
   "cell_type": "code",
   "execution_count": 9,
   "id": "78c6791a-c518-4461-9c54-234d792c0418",
   "metadata": {},
   "outputs": [],
   "source": [
    "#%% divide datasets to pre-vaccine and post-vaccine \n",
    "ucl_df['year-month'].value_counts()\n",
    "ucl_df['year-month'] = pd.to_datetime(ucl_df['year-month'])\n",
    "\n",
    "vaccine_date = datetime.datetime(2021, 5, 1)\n",
    "pre_vaccine = ucl_df[ucl_df['year-month'] < vaccine_date ]\n",
    "post_vaccine = ucl_df[ucl_df['year-month'] >= vaccine_date ]"
   ]
  },
  {
   "cell_type": "code",
   "execution_count": 11,
   "id": "2cbb5c56-49d0-47ce-97c2-bbac50f54664",
   "metadata": {},
   "outputs": [
    {
     "data": {
      "text/plain": [
       "(20466, 39)"
      ]
     },
     "execution_count": 11,
     "metadata": {},
     "output_type": "execute_result"
    }
   ],
   "source": [
    "pre_vaccine.shape"
   ]
  },
  {
   "cell_type": "code",
   "execution_count": 30,
   "id": "2cc3019b-f475-4154-98f2-a043ed7eeaff",
   "metadata": {},
   "outputs": [
    {
     "data": {
      "text/plain": [
       "(6,)"
      ]
     },
     "execution_count": 30,
     "metadata": {},
     "output_type": "execute_result"
    }
   ],
   "source": [
    "post_vaccine.household_children.unique().shape"
   ]
  },
  {
   "cell_type": "code",
   "execution_count": 31,
   "id": "82f3c0f7-b8ad-4e7f-bf32-47278689ab35",
   "metadata": {},
   "outputs": [
    {
     "data": {
      "text/plain": [
       "(10,)"
      ]
     },
     "execution_count": 31,
     "metadata": {},
     "output_type": "execute_result"
    }
   ],
   "source": [
    "post_vaccine.household_size.unique().shape"
   ]
  },
  {
   "cell_type": "code",
   "execution_count": 28,
   "id": "690042e0-aae2-45d2-b5c7-d65016f44372",
   "metadata": {},
   "outputs": [
    {
     "data": {
      "image/png": "[encoded data removed]",
      "text/plain": [
       "<Figure size 432x288 with 1 Axes>"
      ]
     },
     "metadata": {
      "needs_background": "light"
     },
     "output_type": "display_data"
    }
   ],
   "source": [
    "#%% Histogram of Household Children\n",
    "plt.xlim([0, 5])\n",
    "plt.hist(pre_vaccine['household_children'], bins=range(0,10))\n",
    "plt.show()"
   ]
  },
  {
   "cell_type": "code",
   "execution_count": 27,
   "id": "2f674b23-eeff-4a42-85bf-112225e91d6e",
   "metadata": {},
   "outputs": [
    {
     "data": {
      "image/png": "[encoded data removed]",
      "text/plain": [
       "<Figure size 432x288 with 1 Axes>"
      ]
     },
     "metadata": {
      "needs_background": "light"
     },
     "output_type": "display_data"
    }
   ],
   "source": [
    "plt.xlim([0, 5])\n",
    "plt.hist(post_vaccine['household_children'], bins=range(0,10))\n",
    "plt.show()"
   ]
  },
  {
   "cell_type": "code",
   "execution_count": 29,
   "id": "9d4baa8a-8f56-4d7b-8ae4-cee3b75684e6",
   "metadata": {},
   "outputs": [
    {
     "data": {
      "image/png": "[encoded data removed]",
      "text/plain": [
       "<Figure size 432x288 with 1 Axes>"
      ]
     },
     "metadata": {
      "needs_background": "light"
     },
     "output_type": "display_data"
    }
   ],
   "source": [
    "#%% Histogram of Household size \n",
    "plt.xlim([0, 10])\n",
    "plt.hist(pre_vaccine['household_size'], bins=range(0,20))\n",
    "plt.show()"
   ]
  },
  {
   "cell_type": "code",
   "execution_count": 32,
   "id": "ee77e646-d56e-4499-8816-ea74fca1c53e",
   "metadata": {},
   "outputs": [
    {
     "data": {
      "image/png": "[encoded data removed]",
      "text/plain": [
       "<Figure size 432x288 with 1 Axes>"
      ]
     },
     "metadata": {
      "needs_background": "light"
     },
     "output_type": "display_data"
    }
   ],
   "source": [
    "plt.xlim([0, 10])\n",
    "plt.hist(post_vaccine['household_size'], bins=range(0,20))\n",
    "plt.show()"
   ]
  },
  {
   "cell_type": "code",
   "execution_count": null,
   "id": "f3c4216f-d230-4732-99af-1b0522b30088",
   "metadata": {},
   "outputs": [],
   "source": []
  }
 ],
 "metadata": {
  "kernelspec": {
   "display_name": "ds4aw",
   "language": "python",
   "name": "ds4aw"
  },
  "language_info": {
   "codemirror_mode": {
    "name": "ipython",
    "version": 3
   },
   "file_extension": ".py",
   "mimetype": "text/x-python",
   "name": "python",
   "nbconvert_exporter": "python",
   "pygments_lexer": "ipython3",
   "version": "3.9.7"
  }
 },
 "nbformat": 4,
 "nbformat_minor": 5
}
