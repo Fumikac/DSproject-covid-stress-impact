{
 "cells": [
  {
   "cell_type": "markdown",
   "metadata": {},
   "source": [
    "1. Are those with children more likely to feel stress than adults without dependences?\n",
    "2. How does the number of dependencies and their age group affect stress levels in parents/head of household (HoH)?\n",
    "3. Do stress levels differ between male and female population?\n",
    "4. Do stress levels differ between male and female parents?\n",
    "\n",
    "\n",
    "PHQ4_1-4 - Patient health questionnaire, response scale of 1-4 for frequency\n",
    "1. Little interest or pleasure in doing things\n",
    "2. Feeling down, depressed, or hopeless\n",
    "3. Feeling nervous, anxious, or on edge\n",
    "4. Not being able to stop or control worrying\n",
    "\n",
    "child_age_1-5 - Number of children within the 5 age groups\n",
    "1. 0-2\n",
    "2. 3-11\n",
    "3. 12-18\n",
    "4. 19+\n",
    "5. N/A\n"
   ]
  },
  {
   "cell_type": "code",
   "execution_count": 157,
   "metadata": {},
   "outputs": [],
   "source": [
    "import pandas as pd\n",
    "import seaborn as sns\n",
    "import matplotlib.pyplot as plt\n",
    "import numpy as np\n",
    "\n",
    "sns.set_style(\"darkgrid\")"
   ]
  },
  {
   "cell_type": "code",
   "execution_count": 10,
   "id": "b4fb529c",
   "metadata": {},
   "outputs": [
    {
     "name": "stderr",
     "output_type": "stream",
     "text": [
      "/usr/local/lib/python3.9/site-packages/IPython/core/interactiveshell.py:3444: DtypeWarning: Columns (1,2,3,4,6,7,8,9,10,11,12,13,14,15,16,17,18,19,20,21,22,23,24,25,26,27,28,29,30,31,32,33,34,35,36,37,38) have mixed types.Specify dtype option on import or set low_memory=False.\n",
      "  exec(code_obj, self.user_global_ns, self.user_ns)\n"
     ]
    }
   ],
   "source": [
    "ucl_data = pd.read_csv('cov19tracker_cleaned.csv')"
   ]
  },
  {
   "cell_type": "code",
   "execution_count": 136,
   "id": "b70b2c40",
   "metadata": {},
   "outputs": [
    {
     "data": {
      "text/html": [
       "<div>\n",
       "<style scoped>\n",
       "    .dataframe tbody tr th:only-of-type {\n",
       "        vertical-align: middle;\n",
       "    }\n",
       "\n",
       "    .dataframe tbody tr th {\n",
       "        vertical-align: top;\n",
       "    }\n",
       "\n",
       "    .dataframe thead th {\n",
       "        text-align: right;\n",
       "    }\n",
       "</style>\n",
       "<table border=\"1\" class=\"dataframe\">\n",
       "  <thead>\n",
       "    <tr style=\"text-align: right;\">\n",
       "      <th></th>\n",
       "      <th>index_n</th>\n",
       "      <th>state</th>\n",
       "      <th>year-month</th>\n",
       "      <th>endtime</th>\n",
       "      <th>gender</th>\n",
       "      <th>age</th>\n",
       "      <th>household_size</th>\n",
       "      <th>household_children</th>\n",
       "      <th>child_age_1</th>\n",
       "      <th>child_age_2</th>\n",
       "      <th>child_age_3</th>\n",
       "      <th>child_age_4</th>\n",
       "      <th>child_age_5</th>\n",
       "      <th>child_education_1</th>\n",
       "      <th>child_education_2</th>\n",
       "      <th>child_education_3</th>\n",
       "      <th>child_education_4</th>\n",
       "      <th>i10_health</th>\n",
       "      <th>i11_health</th>\n",
       "      <th>r1_1</th>\n",
       "      <th>WCRV_4</th>\n",
       "      <th>employment_status</th>\n",
       "      <th>cantril_ladder</th>\n",
       "      <th>PHQ4_1</th>\n",
       "      <th>PHQ4_2</th>\n",
       "      <th>PHQ4_3</th>\n",
       "      <th>PHQ4_4</th>\n",
       "      <th>CORE_B2_4</th>\n",
       "      <th>w4_1</th>\n",
       "      <th>w4_2</th>\n",
       "      <th>w4_3</th>\n",
       "      <th>w4_4</th>\n",
       "      <th>w4_5</th>\n",
       "      <th>w4_6</th>\n",
       "      <th>w4_7</th>\n",
       "      <th>w4_8</th>\n",
       "      <th>w4_9</th>\n",
       "      <th>w4_10</th>\n",
       "      <th>w4_11</th>\n",
       "    </tr>\n",
       "  </thead>\n",
       "  <tbody>\n",
       "    <tr>\n",
       "      <th>0</th>\n",
       "      <td>0</td>\n",
       "      <td>California</td>\n",
       "      <td>2020-02-01</td>\n",
       "      <td>02/04/2020 08:11</td>\n",
       "      <td>Female</td>\n",
       "      <td>33.0</td>\n",
       "      <td>5</td>\n",
       "      <td>2</td>\n",
       "      <td>NaN</td>\n",
       "      <td>NaN</td>\n",
       "      <td>NaN</td>\n",
       "      <td>NaN</td>\n",
       "      <td>NaN</td>\n",
       "      <td>NaN</td>\n",
       "      <td>NaN</td>\n",
       "      <td>NaN</td>\n",
       "      <td>NaN</td>\n",
       "      <td>Neither easy nor difficult</td>\n",
       "      <td>Somewhat willing</td>\n",
       "      <td></td>\n",
       "      <td></td>\n",
       "      <td>NaN</td>\n",
       "      <td>NaN</td>\n",
       "      <td>NaN</td>\n",
       "      <td>NaN</td>\n",
       "      <td>NaN</td>\n",
       "      <td>NaN</td>\n",
       "      <td>NaN</td>\n",
       "      <td>NaN</td>\n",
       "      <td>NaN</td>\n",
       "      <td>NaN</td>\n",
       "      <td>NaN</td>\n",
       "      <td>NaN</td>\n",
       "      <td>NaN</td>\n",
       "      <td>NaN</td>\n",
       "      <td>NaN</td>\n",
       "      <td>NaN</td>\n",
       "      <td>NaN</td>\n",
       "      <td>NaN</td>\n",
       "    </tr>\n",
       "    <tr>\n",
       "      <th>1</th>\n",
       "      <td>1</td>\n",
       "      <td>Pennsylvania</td>\n",
       "      <td>2020-02-01</td>\n",
       "      <td>02/04/2020 08:12</td>\n",
       "      <td>Male</td>\n",
       "      <td>38.0</td>\n",
       "      <td>4</td>\n",
       "      <td>1</td>\n",
       "      <td>NaN</td>\n",
       "      <td>NaN</td>\n",
       "      <td>NaN</td>\n",
       "      <td>NaN</td>\n",
       "      <td>NaN</td>\n",
       "      <td>NaN</td>\n",
       "      <td>NaN</td>\n",
       "      <td>NaN</td>\n",
       "      <td>NaN</td>\n",
       "      <td>Very easy</td>\n",
       "      <td>Very willing</td>\n",
       "      <td></td>\n",
       "      <td></td>\n",
       "      <td>NaN</td>\n",
       "      <td>NaN</td>\n",
       "      <td>NaN</td>\n",
       "      <td>NaN</td>\n",
       "      <td>NaN</td>\n",
       "      <td>NaN</td>\n",
       "      <td>NaN</td>\n",
       "      <td>NaN</td>\n",
       "      <td>NaN</td>\n",
       "      <td>NaN</td>\n",
       "      <td>NaN</td>\n",
       "      <td>NaN</td>\n",
       "      <td>NaN</td>\n",
       "      <td>NaN</td>\n",
       "      <td>NaN</td>\n",
       "      <td>NaN</td>\n",
       "      <td>NaN</td>\n",
       "      <td>NaN</td>\n",
       "    </tr>\n",
       "    <tr>\n",
       "      <th>2</th>\n",
       "      <td>2</td>\n",
       "      <td>Florida</td>\n",
       "      <td>2020-02-01</td>\n",
       "      <td>02/04/2020 08:15</td>\n",
       "      <td>Female</td>\n",
       "      <td>48.0</td>\n",
       "      <td>2</td>\n",
       "      <td>0</td>\n",
       "      <td>NaN</td>\n",
       "      <td>NaN</td>\n",
       "      <td>NaN</td>\n",
       "      <td>NaN</td>\n",
       "      <td>NaN</td>\n",
       "      <td>NaN</td>\n",
       "      <td>NaN</td>\n",
       "      <td>NaN</td>\n",
       "      <td>NaN</td>\n",
       "      <td>Somewhat difficult</td>\n",
       "      <td>Very willing</td>\n",
       "      <td></td>\n",
       "      <td></td>\n",
       "      <td>NaN</td>\n",
       "      <td>NaN</td>\n",
       "      <td>NaN</td>\n",
       "      <td>NaN</td>\n",
       "      <td>NaN</td>\n",
       "      <td>NaN</td>\n",
       "      <td>NaN</td>\n",
       "      <td>NaN</td>\n",
       "      <td>NaN</td>\n",
       "      <td>NaN</td>\n",
       "      <td>NaN</td>\n",
       "      <td>NaN</td>\n",
       "      <td>NaN</td>\n",
       "      <td>NaN</td>\n",
       "      <td>NaN</td>\n",
       "      <td>NaN</td>\n",
       "      <td>NaN</td>\n",
       "      <td>NaN</td>\n",
       "    </tr>\n",
       "    <tr>\n",
       "      <th>3</th>\n",
       "      <td>3</td>\n",
       "      <td>California</td>\n",
       "      <td>2020-02-01</td>\n",
       "      <td>02/04/2020 08:15</td>\n",
       "      <td>Male</td>\n",
       "      <td>31.0</td>\n",
       "      <td>5</td>\n",
       "      <td>0</td>\n",
       "      <td>NaN</td>\n",
       "      <td>NaN</td>\n",
       "      <td>NaN</td>\n",
       "      <td>NaN</td>\n",
       "      <td>NaN</td>\n",
       "      <td>NaN</td>\n",
       "      <td>NaN</td>\n",
       "      <td>NaN</td>\n",
       "      <td>NaN</td>\n",
       "      <td>Somewhat difficult</td>\n",
       "      <td>Somewhat willing</td>\n",
       "      <td></td>\n",
       "      <td></td>\n",
       "      <td>NaN</td>\n",
       "      <td>NaN</td>\n",
       "      <td>NaN</td>\n",
       "      <td>NaN</td>\n",
       "      <td>NaN</td>\n",
       "      <td>NaN</td>\n",
       "      <td>NaN</td>\n",
       "      <td>NaN</td>\n",
       "      <td>NaN</td>\n",
       "      <td>NaN</td>\n",
       "      <td>NaN</td>\n",
       "      <td>NaN</td>\n",
       "      <td>NaN</td>\n",
       "      <td>NaN</td>\n",
       "      <td>NaN</td>\n",
       "      <td>NaN</td>\n",
       "      <td>NaN</td>\n",
       "      <td>NaN</td>\n",
       "    </tr>\n",
       "    <tr>\n",
       "      <th>4</th>\n",
       "      <td>4</td>\n",
       "      <td>Florida</td>\n",
       "      <td>2020-02-01</td>\n",
       "      <td>02/04/2020 08:15</td>\n",
       "      <td>Female</td>\n",
       "      <td>69.0</td>\n",
       "      <td>2</td>\n",
       "      <td>0</td>\n",
       "      <td>NaN</td>\n",
       "      <td>NaN</td>\n",
       "      <td>NaN</td>\n",
       "      <td>NaN</td>\n",
       "      <td>NaN</td>\n",
       "      <td>NaN</td>\n",
       "      <td>NaN</td>\n",
       "      <td>NaN</td>\n",
       "      <td>NaN</td>\n",
       "      <td>Somewhat easy</td>\n",
       "      <td>Very willing</td>\n",
       "      <td></td>\n",
       "      <td></td>\n",
       "      <td>NaN</td>\n",
       "      <td>NaN</td>\n",
       "      <td>NaN</td>\n",
       "      <td>NaN</td>\n",
       "      <td>NaN</td>\n",
       "      <td>NaN</td>\n",
       "      <td>NaN</td>\n",
       "      <td>NaN</td>\n",
       "      <td>NaN</td>\n",
       "      <td>NaN</td>\n",
       "      <td>NaN</td>\n",
       "      <td>NaN</td>\n",
       "      <td>NaN</td>\n",
       "      <td>NaN</td>\n",
       "      <td>NaN</td>\n",
       "      <td>NaN</td>\n",
       "      <td>NaN</td>\n",
       "      <td>NaN</td>\n",
       "    </tr>\n",
       "  </tbody>\n",
       "</table>\n",
       "</div>"
      ],
      "text/plain": [
       "   index_n         state  year-month           endtime  gender   age  \\\n",
       "0        0    California  2020-02-01  02/04/2020 08:11  Female  33.0   \n",
       "1        1  Pennsylvania  2020-02-01  02/04/2020 08:12    Male  38.0   \n",
       "2        2       Florida  2020-02-01  02/04/2020 08:15  Female  48.0   \n",
       "3        3    California  2020-02-01  02/04/2020 08:15    Male  31.0   \n",
       "4        4       Florida  2020-02-01  02/04/2020 08:15  Female  69.0   \n",
       "\n",
       "  household_size household_children child_age_1 child_age_2 child_age_3  \\\n",
       "0              5                  2         NaN         NaN         NaN   \n",
       "1              4                  1         NaN         NaN         NaN   \n",
       "2              2                  0         NaN         NaN         NaN   \n",
       "3              5                  0         NaN         NaN         NaN   \n",
       "4              2                  0         NaN         NaN         NaN   \n",
       "\n",
       "  child_age_4 child_age_5 child_education_1 child_education_2  \\\n",
       "0         NaN         NaN               NaN               NaN   \n",
       "1         NaN         NaN               NaN               NaN   \n",
       "2         NaN         NaN               NaN               NaN   \n",
       "3         NaN         NaN               NaN               NaN   \n",
       "4         NaN         NaN               NaN               NaN   \n",
       "\n",
       "  child_education_3 child_education_4                  i10_health  \\\n",
       "0               NaN               NaN  Neither easy nor difficult   \n",
       "1               NaN               NaN                   Very easy   \n",
       "2               NaN               NaN          Somewhat difficult   \n",
       "3               NaN               NaN          Somewhat difficult   \n",
       "4               NaN               NaN               Somewhat easy   \n",
       "\n",
       "         i11_health r1_1 WCRV_4 employment_status cantril_ladder PHQ4_1  \\\n",
       "0  Somewhat willing                           NaN            NaN    NaN   \n",
       "1      Very willing                           NaN            NaN    NaN   \n",
       "2      Very willing                           NaN            NaN    NaN   \n",
       "3  Somewhat willing                           NaN            NaN    NaN   \n",
       "4      Very willing                           NaN            NaN    NaN   \n",
       "\n",
       "  PHQ4_2 PHQ4_3 PHQ4_4 CORE_B2_4 w4_1 w4_2 w4_3 w4_4 w4_5 w4_6 w4_7 w4_8 w4_9  \\\n",
       "0    NaN    NaN    NaN       NaN  NaN  NaN  NaN  NaN  NaN  NaN  NaN  NaN  NaN   \n",
       "1    NaN    NaN    NaN       NaN  NaN  NaN  NaN  NaN  NaN  NaN  NaN  NaN  NaN   \n",
       "2    NaN    NaN    NaN       NaN  NaN  NaN  NaN  NaN  NaN  NaN  NaN  NaN  NaN   \n",
       "3    NaN    NaN    NaN       NaN  NaN  NaN  NaN  NaN  NaN  NaN  NaN  NaN  NaN   \n",
       "4    NaN    NaN    NaN       NaN  NaN  NaN  NaN  NaN  NaN  NaN  NaN  NaN  NaN   \n",
       "\n",
       "  w4_10 w4_11  \n",
       "0   NaN   NaN  \n",
       "1   NaN   NaN  \n",
       "2   NaN   NaN  \n",
       "3   NaN   NaN  \n",
       "4   NaN   NaN  "
      ]
     },
     "execution_count": 136,
     "metadata": {},
     "output_type": "execute_result"
    }
   ],
   "source": [
    "ucl_data.head()"
   ]
  },
  {
   "cell_type": "code",
   "execution_count": 137,
   "id": "599e7a90",
   "metadata": {},
   "outputs": [
    {
     "data": {
      "text/plain": [
       "(65860, 39)"
      ]
     },
     "execution_count": 137,
     "metadata": {},
     "output_type": "execute_result"
    }
   ],
   "source": [
    "ucl_data.shape"
   ]
  },
  {
   "cell_type": "code",
   "execution_count": 138,
   "metadata": {},
   "outputs": [],
   "source": [
    "ucl_data.replace(' ', np.nan, inplace=True)"
   ]
  },
  {
   "cell_type": "code",
   "execution_count": 155,
   "metadata": {},
   "outputs": [
    {
     "name": "stdout",
     "output_type": "stream",
     "text": [
      "                 PHQ4_1 gender\n",
      "65850        Not at all    NaN\n",
      "65851        Not at all    NaN\n",
      "65852        Not at all    NaN\n",
      "65853  Nearly every day    NaN\n",
      "65854               NaN    NaN\n",
      "65855        Not at all    NaN\n",
      "65856               NaN    NaN\n",
      "65857               NaN    NaN\n",
      "65858        Not at all    NaN\n",
      "65859      Several days    NaN\n",
      "  PHQ4_1  gender\n",
      "0    NaN  Female\n",
      "1    NaN    Male\n",
      "2    NaN  Female\n",
      "3    NaN    Male\n",
      "4    NaN  Female\n",
      "5    NaN    Male\n",
      "6    NaN  Female\n",
      "7    NaN    Male\n",
      "8    NaN    Male\n",
      "9    NaN  Female\n"
     ]
    }
   ],
   "source": [
    "stress_gender_df = pd.DataFrame(ucl_data[['PHQ4_1','gender']])\n",
    "stress_gender_df.to_csv('phq4_1_gender.csv')"
   ]
  },
  {
   "cell_type": "code",
   "execution_count": 158,
   "metadata": {},
   "outputs": [
    {
     "data": {
      "image/png": "[encoded data removed]",
      "text/plain": [
       "<Figure size 432x288 with 1 Axes>"
      ]
     },
     "metadata": {},
     "output_type": "display_data"
    }
   ],
   "source": [
    "sns.countplot(x='PHQ4_1', data=ucl_data)\n",
    "plt.title('How often do you feel like you have little interest or pleasure in doing things?')\n",
    "plt.xticks(rotation=90);\n",
    "plt.savefig('PHQ4_1_counts.png', bbox_inches = \"tight\")"
   ]
  },
  {
   "cell_type": "code",
   "execution_count": 161,
   "metadata": {},
   "outputs": [
    {
     "data": {
      "text/plain": [
       "Not at all                 9322\n",
       "Several days               5072\n",
       "More than half the days    2502\n",
       "Nearly every day           1949\n",
       "Prefer not to say           522\n",
       "Name: PHQ4_1, dtype: int64"
      ]
     },
     "execution_count": 161,
     "metadata": {},
     "output_type": "execute_result"
    }
   ],
   "source": [
    "ucl_data.PHQ4_1.value_counts()"
   ]
  },
  {
   "cell_type": "code",
   "execution_count": 159,
   "metadata": {},
   "outputs": [
    {
     "data": {
      "text/plain": [
       "<AxesSubplot:xlabel='gender', ylabel='count'>"
      ]
     },
     "execution_count": 159,
     "metadata": {},
     "output_type": "execute_result"
    },
    {
     "data": {
      "image/png": "[encoded data removed]",
      "text/plain": [
       "<Figure size 432x288 with 1 Axes>"
      ]
     },
     "metadata": {},
     "output_type": "display_data"
    }
   ],
   "source": [
    "sns.countplot(x='gender', data=ucl_data)"
   ]
  },
  {
   "cell_type": "code",
   "execution_count": 160,
   "metadata": {},
   "outputs": [
    {
     "data": {
      "text/plain": [
       "Female    17313\n",
       "Male      15617\n",
       "Name: gender, dtype: int64"
      ]
     },
     "execution_count": 160,
     "metadata": {},
     "output_type": "execute_result"
    }
   ],
   "source": [
    "ucl_data.gender.value_counts()"
   ]
  },
  {
   "cell_type": "code",
   "execution_count": null,
   "metadata": {},
   "outputs": [],
   "source": []
  }
 ],
 "metadata": {
  "interpreter": {
   "hash": "aee8b7b246df8f9039afb4144a1f6fd8d2ca17a180786b69acc140d282b71a49"
  },
  "kernelspec": {
   "display_name": "Python 3.9.7 64-bit",
   "name": "python3"
  },
  "language_info": {
   "codemirror_mode": {
    "name": "ipython",
    "version": 3
   },
   "file_extension": ".py",
   "mimetype": "text/x-python",
   "name": "python",
   "nbconvert_exporter": "python",
   "pygments_lexer": "ipython3",
   "version": "3.9.7"
  }
 },
 "nbformat": 4,
 "nbformat_minor": 5
}
