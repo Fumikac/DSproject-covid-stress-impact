{
 "cells": [
  {
   "cell_type": "code",
   "execution_count": 2,
   "id": "b4fb529c",
   "metadata": {},
   "outputs": [],
   "source": [
    "import pandas as pd\n",
    "ucl_data = pd.read_csv('cov19tracker_cleaned.csv')"
   ]
  },
  {
   "cell_type": "code",
   "execution_count": 3,
   "id": "b70b2c40",
   "metadata": {},
   "outputs": [
    {
     "data": {
      "text/html": [
       "<div>\n",
       "<style scoped>\n",
       "    .dataframe tbody tr th:only-of-type {\n",
       "        vertical-align: middle;\n",
       "    }\n",
       "\n",
       "    .dataframe tbody tr th {\n",
       "        vertical-align: top;\n",
       "    }\n",
       "\n",
       "    .dataframe thead th {\n",
       "        text-align: right;\n",
       "    }\n",
       "</style>\n",
       "<table border=\"1\" class=\"dataframe\">\n",
       "  <thead>\n",
       "    <tr style=\"text-align: right;\">\n",
       "      <th></th>\n",
       "      <th>Unnamed: 0</th>\n",
       "      <th>state</th>\n",
       "      <th>year-month</th>\n",
       "      <th>endtime</th>\n",
       "      <th>gender</th>\n",
       "      <th>age</th>\n",
       "      <th>household_size</th>\n",
       "      <th>household_children</th>\n",
       "      <th>child_age_1</th>\n",
       "      <th>child_age_2</th>\n",
       "      <th>...</th>\n",
       "      <th>w4_2</th>\n",
       "      <th>w4_3</th>\n",
       "      <th>w4_4</th>\n",
       "      <th>w4_5</th>\n",
       "      <th>w4_6</th>\n",
       "      <th>w4_7</th>\n",
       "      <th>w4_8</th>\n",
       "      <th>w4_9</th>\n",
       "      <th>w4_10</th>\n",
       "      <th>w4_11</th>\n",
       "    </tr>\n",
       "  </thead>\n",
       "  <tbody>\n",
       "    <tr>\n",
       "      <th>0</th>\n",
       "      <td>0</td>\n",
       "      <td>California</td>\n",
       "      <td>2020-02-01</td>\n",
       "      <td>02/04/2020 08:11</td>\n",
       "      <td>Female</td>\n",
       "      <td>33.0</td>\n",
       "      <td>5</td>\n",
       "      <td>2</td>\n",
       "      <td>NaN</td>\n",
       "      <td>NaN</td>\n",
       "      <td>...</td>\n",
       "      <td>NaN</td>\n",
       "      <td>NaN</td>\n",
       "      <td>NaN</td>\n",
       "      <td>NaN</td>\n",
       "      <td>NaN</td>\n",
       "      <td>NaN</td>\n",
       "      <td>NaN</td>\n",
       "      <td>NaN</td>\n",
       "      <td>NaN</td>\n",
       "      <td>NaN</td>\n",
       "    </tr>\n",
       "    <tr>\n",
       "      <th>1</th>\n",
       "      <td>1</td>\n",
       "      <td>Pennsylvania</td>\n",
       "      <td>2020-02-01</td>\n",
       "      <td>02/04/2020 08:12</td>\n",
       "      <td>Male</td>\n",
       "      <td>38.0</td>\n",
       "      <td>4</td>\n",
       "      <td>1</td>\n",
       "      <td>NaN</td>\n",
       "      <td>NaN</td>\n",
       "      <td>...</td>\n",
       "      <td>NaN</td>\n",
       "      <td>NaN</td>\n",
       "      <td>NaN</td>\n",
       "      <td>NaN</td>\n",
       "      <td>NaN</td>\n",
       "      <td>NaN</td>\n",
       "      <td>NaN</td>\n",
       "      <td>NaN</td>\n",
       "      <td>NaN</td>\n",
       "      <td>NaN</td>\n",
       "    </tr>\n",
       "    <tr>\n",
       "      <th>2</th>\n",
       "      <td>2</td>\n",
       "      <td>Florida</td>\n",
       "      <td>2020-02-01</td>\n",
       "      <td>02/04/2020 08:15</td>\n",
       "      <td>Female</td>\n",
       "      <td>48.0</td>\n",
       "      <td>2</td>\n",
       "      <td>0</td>\n",
       "      <td>NaN</td>\n",
       "      <td>NaN</td>\n",
       "      <td>...</td>\n",
       "      <td>NaN</td>\n",
       "      <td>NaN</td>\n",
       "      <td>NaN</td>\n",
       "      <td>NaN</td>\n",
       "      <td>NaN</td>\n",
       "      <td>NaN</td>\n",
       "      <td>NaN</td>\n",
       "      <td>NaN</td>\n",
       "      <td>NaN</td>\n",
       "      <td>NaN</td>\n",
       "    </tr>\n",
       "    <tr>\n",
       "      <th>3</th>\n",
       "      <td>3</td>\n",
       "      <td>California</td>\n",
       "      <td>2020-02-01</td>\n",
       "      <td>02/04/2020 08:15</td>\n",
       "      <td>Male</td>\n",
       "      <td>31.0</td>\n",
       "      <td>5</td>\n",
       "      <td>0</td>\n",
       "      <td>NaN</td>\n",
       "      <td>NaN</td>\n",
       "      <td>...</td>\n",
       "      <td>NaN</td>\n",
       "      <td>NaN</td>\n",
       "      <td>NaN</td>\n",
       "      <td>NaN</td>\n",
       "      <td>NaN</td>\n",
       "      <td>NaN</td>\n",
       "      <td>NaN</td>\n",
       "      <td>NaN</td>\n",
       "      <td>NaN</td>\n",
       "      <td>NaN</td>\n",
       "    </tr>\n",
       "    <tr>\n",
       "      <th>4</th>\n",
       "      <td>4</td>\n",
       "      <td>Florida</td>\n",
       "      <td>2020-02-01</td>\n",
       "      <td>02/04/2020 08:15</td>\n",
       "      <td>Female</td>\n",
       "      <td>69.0</td>\n",
       "      <td>2</td>\n",
       "      <td>0</td>\n",
       "      <td>NaN</td>\n",
       "      <td>NaN</td>\n",
       "      <td>...</td>\n",
       "      <td>NaN</td>\n",
       "      <td>NaN</td>\n",
       "      <td>NaN</td>\n",
       "      <td>NaN</td>\n",
       "      <td>NaN</td>\n",
       "      <td>NaN</td>\n",
       "      <td>NaN</td>\n",
       "      <td>NaN</td>\n",
       "      <td>NaN</td>\n",
       "      <td>NaN</td>\n",
       "    </tr>\n",
       "  </tbody>\n",
       "</table>\n",
       "<p>5 rows × 39 columns</p>\n",
       "</div>"
      ],
      "text/plain": [
       "   Unnamed: 0         state  year-month           endtime  gender   age  \\\n",
       "0           0    California  2020-02-01  02/04/2020 08:11  Female  33.0   \n",
       "1           1  Pennsylvania  2020-02-01  02/04/2020 08:12    Male  38.0   \n",
       "2           2       Florida  2020-02-01  02/04/2020 08:15  Female  48.0   \n",
       "3           3    California  2020-02-01  02/04/2020 08:15    Male  31.0   \n",
       "4           4       Florida  2020-02-01  02/04/2020 08:15  Female  69.0   \n",
       "\n",
       "  household_size household_children child_age_1 child_age_2  ... w4_2 w4_3  \\\n",
       "0              5                  2         NaN         NaN  ...  NaN  NaN   \n",
       "1              4                  1         NaN         NaN  ...  NaN  NaN   \n",
       "2              2                  0         NaN         NaN  ...  NaN  NaN   \n",
       "3              5                  0         NaN         NaN  ...  NaN  NaN   \n",
       "4              2                  0         NaN         NaN  ...  NaN  NaN   \n",
       "\n",
       "  w4_4 w4_5 w4_6 w4_7 w4_8 w4_9 w4_10 w4_11  \n",
       "0  NaN  NaN  NaN  NaN  NaN  NaN   NaN   NaN  \n",
       "1  NaN  NaN  NaN  NaN  NaN  NaN   NaN   NaN  \n",
       "2  NaN  NaN  NaN  NaN  NaN  NaN   NaN   NaN  \n",
       "3  NaN  NaN  NaN  NaN  NaN  NaN   NaN   NaN  \n",
       "4  NaN  NaN  NaN  NaN  NaN  NaN   NaN   NaN  \n",
       "\n",
       "[5 rows x 39 columns]"
      ]
     },
     "execution_count": 3,
     "metadata": {},
     "output_type": "execute_result"
    }
   ],
   "source": [
    "ucl_data.head()"
   ]
  },
  {
   "cell_type": "code",
   "execution_count": 4,
   "id": "599e7a90",
   "metadata": {},
   "outputs": [
    {
     "data": {
      "text/plain": [
       "(65860, 39)"
      ]
     },
     "execution_count": 4,
     "metadata": {},
     "output_type": "execute_result"
    }
   ],
   "source": [
    "ucl_data.shape"
   ]
  },
  {
   "cell_type": "code",
   "execution_count": 5,
   "id": "b15de74f",
   "metadata": {},
   "outputs": [
    {
     "data": {
      "text/plain": [
       "Index(['Unnamed: 0', 'state', 'year-month', 'endtime', 'gender', 'age',\n",
       "       'household_size', 'household_children', 'child_age_1', 'child_age_2',\n",
       "       'child_age_3', 'child_age_4', 'child_age_5', 'child_education_1',\n",
       "       'child_education_2', 'child_education_3', 'child_education_4',\n",
       "       'i10_health', 'i11_health', 'r1_1', 'WCRV_4', 'employment_status',\n",
       "       'cantril_ladder', 'PHQ4_1', 'PHQ4_2', 'PHQ4_3', 'PHQ4_4', 'CORE_B2_4',\n",
       "       'w4_1', 'w4_2', 'w4_3', 'w4_4', 'w4_5', 'w4_6', 'w4_7', 'w4_8', 'w4_9',\n",
       "       'w4_10', 'w4_11'],\n",
       "      dtype='object')"
      ]
     },
     "execution_count": 5,
     "metadata": {},
     "output_type": "execute_result"
    }
   ],
   "source": [
    "ucl_data.columns"
   ]
  },
  {
   "cell_type": "code",
   "execution_count": 6,
   "id": "da816b3f",
   "metadata": {},
   "outputs": [],
   "source": [
    "stress_df = pd.DataFrame(ucl_data['PHQ4_1'])"
   ]
  },
  {
   "cell_type": "code",
   "execution_count": 7,
   "id": "2fae3b5e",
   "metadata": {
    "scrolled": false
   },
   "outputs": [
    {
     "data": {
      "text/plain": [
       "PHQ4_1                 \n",
       "                           13563\n",
       "Not at all                  9322\n",
       "Several days                5072\n",
       "More than half the days     2502\n",
       "Nearly every day            1949\n",
       "Prefer not to say            522\n",
       "dtype: int64"
      ]
     },
     "execution_count": 7,
     "metadata": {},
     "output_type": "execute_result"
    }
   ],
   "source": [
    "stress_df.value_counts()"
   ]
  },
  {
   "cell_type": "code",
   "execution_count": null,
   "id": "ff7bf4e4",
   "metadata": {},
   "outputs": [],
   "source": []
  }
 ],
 "metadata": {
  "interpreter": {
   "hash": "31f2aee4e71d21fbe5cf8b01ff0e069b9275f58929596ceb00d14d90e3e16cd6"
  },
  "kernelspec": {
   "display_name": "Python 3 (ipykernel)",
   "language": "python",
   "name": "python3"
  },
  "language_info": {
   "codemirror_mode": {
    "name": "ipython",
    "version": 3
   },
   "file_extension": ".py",
   "mimetype": "text/x-python",
   "name": "python",
   "nbconvert_exporter": "python",
   "pygments_lexer": "ipython3",
   "version": "3.9.7"
  }
 },
 "nbformat": 4,
 "nbformat_minor": 5
}
